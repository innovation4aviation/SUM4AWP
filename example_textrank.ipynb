{
 "cells": [
  {
   "cell_type": "markdown",
   "metadata": {},
   "source": [
    "### TextRank for extracting keywords"
   ]
  },
  {
   "cell_type": "code",
   "execution_count": 1,
   "metadata": {},
   "outputs": [],
   "source": [
    "from main import textrank\n",
    "# Choose your working paper PDF\n",
    "pdf_path = 'corpus/assembly_wp/a40/a40_wp_063_en.pdf'"
   ]
  },
  {
   "cell_type": "markdown",
   "metadata": {},
   "source": [
    "You can select window size and the number of top words."
   ]
  },
  {
   "cell_type": "code",
   "execution_count": 2,
   "metadata": {},
   "outputs": [
    {
     "data": {
      "text/plain": [
       "['icao',\n",
       " 'plan',\n",
       " 'aviation',\n",
       " 'states',\n",
       " 'afi',\n",
       " 'regional',\n",
       " 'african',\n",
       " 'security',\n",
       " 'implementation',\n",
       " 'international',\n",
       " 'approach',\n",
       " 'programme',\n",
       " 'facilitation',\n",
       " 'annex',\n",
       " 'council']"
      ]
     },
     "execution_count": 2,
     "metadata": {},
     "output_type": "execute_result"
    }
   ],
   "source": [
    "textrank(pdf_path, 2, 15)"
   ]
  },
  {
   "cell_type": "code",
   "execution_count": 3,
   "metadata": {},
   "outputs": [
    {
     "data": {
      "text/plain": [
       "['icao',\n",
       " 'plan',\n",
       " 'security',\n",
       " 'aviation',\n",
       " 'states',\n",
       " 'african',\n",
       " 'afi',\n",
       " 'regional',\n",
       " 'implementation',\n",
       " 'international',\n",
       " 'secfal',\n",
       " 'facilitation',\n",
       " 'approach',\n",
       " 'programme',\n",
       " 'work']"
      ]
     },
     "execution_count": 3,
     "metadata": {},
     "output_type": "execute_result"
    }
   ],
   "source": [
    "textrank(pdf_path, 3, 15)"
   ]
  },
  {
   "cell_type": "code",
   "execution_count": 4,
   "metadata": {},
   "outputs": [
    {
     "data": {
      "text/plain": [
       "['icao',\n",
       " 'plan',\n",
       " 'security',\n",
       " 'aviation',\n",
       " 'states',\n",
       " 'african',\n",
       " 'afi',\n",
       " 'regional',\n",
       " 'implementation',\n",
       " 'international',\n",
       " 'secfal',\n",
       " 'facilitation',\n",
       " 'approach',\n",
       " 'programme',\n",
       " 'work',\n",
       " 'use',\n",
       " 'council',\n",
       " 'annex',\n",
       " 'state',\n",
       " 'established']"
      ]
     },
     "execution_count": 4,
     "metadata": {},
     "output_type": "execute_result"
    }
   ],
   "source": [
    "textrank(pdf_path, 3, 20)"
   ]
  },
  {
   "cell_type": "code",
   "execution_count": 5,
   "metadata": {},
   "outputs": [
    {
     "data": {
      "text/plain": [
       "['icao',\n",
       " 'plan',\n",
       " 'security',\n",
       " 'aviation',\n",
       " 'afi',\n",
       " 'states',\n",
       " 'african',\n",
       " 'implementation',\n",
       " 'regional',\n",
       " 'secfal',\n",
       " 'facilitation',\n",
       " 'international',\n",
       " 'standards',\n",
       " 'annex',\n",
       " 'use',\n",
       " 'approach',\n",
       " 'programme',\n",
       " 'work',\n",
       " 'state',\n",
       " 'committee']"
      ]
     },
     "execution_count": 5,
     "metadata": {},
     "output_type": "execute_result"
    }
   ],
   "source": [
    "textrank(pdf_path, 4, 20)"
   ]
  },
  {
   "cell_type": "code",
   "execution_count": 6,
   "metadata": {},
   "outputs": [
    {
     "data": {
      "text/plain": [
       "['icao',\n",
       " 'plan',\n",
       " 'security',\n",
       " 'aviation',\n",
       " 'afi',\n",
       " 'states',\n",
       " 'african',\n",
       " 'implementation',\n",
       " 'secfal',\n",
       " 'regional',\n",
       " 'facilitation',\n",
       " 'standards',\n",
       " 'international',\n",
       " 'annex',\n",
       " 'programme',\n",
       " 'committee',\n",
       " 'work',\n",
       " 'use',\n",
       " 'council',\n",
       " 'state']"
      ]
     },
     "execution_count": 6,
     "metadata": {},
     "output_type": "execute_result"
    }
   ],
   "source": [
    "textrank(pdf_path, 5, 20)"
   ]
  }
 ],
 "metadata": {
  "kernelspec": {
   "display_name": "Python [conda env:process]",
   "language": "python",
   "name": "conda-env-process-py"
  },
  "language_info": {
   "codemirror_mode": {
    "name": "ipython",
    "version": 3
   },
   "file_extension": ".py",
   "mimetype": "text/x-python",
   "name": "python",
   "nbconvert_exporter": "python",
   "pygments_lexer": "ipython3",
   "version": "3.7.3"
  }
 },
 "nbformat": 4,
 "nbformat_minor": 2
}

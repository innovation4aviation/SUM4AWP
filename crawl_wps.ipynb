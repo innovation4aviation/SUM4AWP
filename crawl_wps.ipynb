{
 "cells": [
  {
   "cell_type": "markdown",
   "metadata": {},
   "source": [
    "### Step 0. Have the ID"
   ]
  },
  {
   "cell_type": "code",
   "execution_count": 1,
   "metadata": {},
   "outputs": [],
   "source": [
    "wps = []\n",
    "for i in range(1,570):\n",
    "    wps.append(str(i).rjust(3,'0'))"
   ]
  },
  {
   "cell_type": "markdown",
   "metadata": {},
   "source": [
    "### Step 1. Create a new folder"
   ]
  },
  {
   "cell_type": "code",
   "execution_count": 2,
   "metadata": {},
   "outputs": [],
   "source": [
    "import os\n",
    "folder_name = 'a40_rev'\n",
    "os.makedirs(folder_name)"
   ]
  },
  {
   "cell_type": "markdown",
   "metadata": {},
   "source": [
    "### Step 2. Download working papers"
   ]
  },
  {
   "cell_type": "code",
   "execution_count": 3,
   "metadata": {
    "scrolled": false
   },
   "outputs": [
    {
     "name": "stdout",
     "output_type": "stream",
     "text": [
      "Downloading wp_010_rev1_en.pdf......\n",
      "Downloading wp_053_rev1_en.pdf......\n",
      "Downloading wp_070_rev1_en.pdf......\n",
      "Downloading wp_073_rev1_en.pdf......\n",
      "Downloading wp_077_rev1_en.pdf......\n",
      "Downloading wp_079_rev1_en.pdf......\n",
      "Downloading wp_080_rev1_en.pdf......\n",
      "Downloading wp_092_rev1_en.pdf......\n",
      "Downloading wp_107_rev1_en.pdf......\n",
      "Downloading wp_160_rev1_en.pdf......\n",
      "Downloading wp_165_rev1_en.pdf......\n",
      "Downloading wp_187_rev1_en.pdf......\n",
      "Downloading wp_228_rev1_en.pdf......\n",
      "Downloading wp_237_rev1_en.pdf......\n",
      "Downloading wp_270_rev1_en.pdf......\n",
      "Downloading wp_275_rev1_en.pdf......\n",
      "Downloading wp_309_rev1_en.pdf......\n",
      "Downloading wp_311_rev1_en.pdf......\n",
      "Downloading wp_312_rev1_en.pdf......\n",
      "Downloading wp_313_rev1_en.pdf......\n",
      "Downloading wp_314_rev1_en.pdf......\n",
      "Downloading wp_331_rev1_en.pdf......\n",
      "Downloading wp_361_rev1_en.pdf......\n",
      "Downloading wp_387_rev1_en.pdf......\n",
      "Downloading wp_392_rev1_en.pdf......\n",
      "Downloading wp_434_rev1_en.pdf......\n",
      "Downloading wp_477_rev1_en.pdf......\n",
      "Downloading wp_479_rev1_en.pdf......\n",
      "Downloading wp_507_rev1_en.pdf......\n",
      "Downloading wp_528_rev1_en.pdf......\n",
      "--------------------------------------------------\n",
      "Download 30 working papers in total.\n",
      "CPU times: user 13.3 s, sys: 671 ms, total: 14 s\n",
      "Wall time: 1min 46s\n"
     ]
    }
   ],
   "source": [
    "%%time\n",
    "from urllib.request import urlretrieve\n",
    "num_wp = 0\n",
    "for wp in wps:\n",
    "#     filename = 'wp_' + wp + '_en.pdf'\n",
    "    filename = 'wp_' + wp + '_rev1_en.pdf'\n",
    "#     filename = 'wp_' + wp + '_rev2_en.pdf'\n",
    "#     filename = 'wp_' + wp + '_corr1_en.pdf'\n",
    "#     filename = 'wp_' + wp + '_corr2_en.pdf'\n",
    "#     filename = 'wp_' + wp + '_rev1_corr1_en.pdf'\n",
    "    try:\n",
    "        urlretrieve(\"https://www.icao.int/Meetings/A40/Documents/WP/\" + filename, folder_name + '/' + filename)\n",
    "#         urlretrieve(\"https://www.icao.int/Meetings/A40/Documents/\" + filename, folder_name + '/' + filename)\n",
    "        print('Downloading ' + filename + '......')\n",
    "        num_wp += 1\n",
    "    except:\n",
    "        pass\n",
    "print('-'*50 + '\\nDownload ' + str(num_wp) + ' working papers in total.')"
   ]
  }
 ],
 "metadata": {
  "kernelspec": {
   "display_name": "Python [conda env:process]",
   "language": "python",
   "name": "conda-env-process-py"
  },
  "language_info": {
   "codemirror_mode": {
    "name": "ipython",
    "version": 3
   },
   "file_extension": ".py",
   "mimetype": "text/x-python",
   "name": "python",
   "nbconvert_exporter": "python",
   "pygments_lexer": "ipython3",
   "version": "3.7.3"
  }
 },
 "nbformat": 4,
 "nbformat_minor": 2
}

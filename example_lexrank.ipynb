{
 "cells": [
  {
   "cell_type": "code",
   "execution_count": 1,
   "metadata": {},
   "outputs": [],
   "source": [
    "# load word embeddings\n",
    "from utils import load_glove\n",
    "# 6B.50,100,200,300 # 42B.300d\n",
    "glove = 'glove/glove.6B.100d.txt'\n",
    "word_embeddings = load_glove(glove)"
   ]
  },
  {
   "cell_type": "code",
   "execution_count": 2,
   "metadata": {},
   "outputs": [],
   "source": [
    "# get the path of PDF\n",
    "# Download your English working paper from https://www.icao.int/Meetings/A40/Pages/wp.aspx .\n",
    "pdf_path = 'corpus/assembly_wp/a40/a40_wp_172_en.pdf'"
   ]
  },
  {
   "cell_type": "code",
   "execution_count": 3,
   "metadata": {
    "scrolled": false
   },
   "outputs": [
    {
     "data": {
      "text/plain": [
       "'The CRSSP should consider and advice on the development of a dedicated Annex for Cyber-Resilience, Safety and Security related issues within the aviation sector. This new Panel would create a multidisciplinary, holistic approach throughout ICAO and consolidate all work within ICAO on cyber related issues. This group is expanding its work in different working groups defining identification requirements, current and future needs for such a network. The current work method of ICAO to address Cyber-Resilience, Safety and Security related issues is not sufficiently coordinated and not efficient. '"
      ]
     },
     "execution_count": 3,
     "metadata": {},
     "output_type": "execute_result"
    }
   ],
   "source": [
    "# give you a summary\n",
    "from main import lexrank4awps\n",
    "lexrank4awps(pdf_path, word_embeddings, glove_dim=100, num_sent=4)"
   ]
  }
 ],
 "metadata": {
  "kernelspec": {
   "display_name": "Python [conda env:process]",
   "language": "python",
   "name": "conda-env-process-py"
  },
  "language_info": {
   "codemirror_mode": {
    "name": "ipython",
    "version": 3
   },
   "file_extension": ".py",
   "mimetype": "text/x-python",
   "name": "python",
   "nbconvert_exporter": "python",
   "pygments_lexer": "ipython3",
   "version": "3.7.3"
  }
 },
 "nbformat": 4,
 "nbformat_minor": 2
}
